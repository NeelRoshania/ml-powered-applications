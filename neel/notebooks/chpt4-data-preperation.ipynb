{
 "cells": [
  {
   "cell_type": "markdown",
   "metadata": {},
   "source": [
    "# ML Powered Applications"
   ]
  },
  {
   "cell_type": "markdown",
   "metadata": {},
   "source": [
    "# Chapter 4\n",
    "\n",
    "Data preration notebook to better understand the data.\n",
    "\n",
    "Objective\n",
    "- To produce a data set that scores questions based on answers provided on writers.stackexcange.com\n",
    "\n",
    "Process\n",
    "- Import data\n",
    "- Clean data types\n",
    "- Flag outliers"
   ]
  },
  {
   "cell_type": "code",
   "execution_count": 1,
   "metadata": {},
   "outputs": [],
   "source": [
    "# library dependencies\n",
    "import pandas as pd\n",
    "import numpy as np\n",
    "\n",
    "# intialization\n",
    "PATH_data = r\"C:\\Users\\nrosh\\Desktop\\Personal Coding Projects\\Python\\ml-powered-applications\\neel\\data\""
   ]
  },
  {
   "cell_type": "markdown",
   "metadata": {},
   "source": [
    "## Domain research"
   ]
  },
  {
   "cell_type": "markdown",
   "metadata": {},
   "source": [
    "Data structure\n",
    "1. PostType: \n",
    "    - {1: Question, 2: Answer}\n",
    "2. AcceptedAnswerId: \n",
    "    - Row Id that answers a id. One Id can have many AcceptedAnswerId's\n",
    "3. Score: \n",
    "    - Number of upvotes - Number of downvotes\n",
    "4. ViewCount: \n",
    "    - Number of post views\n",
    "5. body_text: \n",
    "    - Text associate with row entry id\n",
    "6. FavoriteCount: \n",
    "    - Number of times the post was favorited\n",
    "7. CommentCount: \n",
    "    - Number of times a comment was made on the Post\n",
    "8. CreationDate: \n",
    "    - Date the post was created\n",
    "9. LastActivityDate:\n",
    "    - datetime of the post's most recent activity\n",
    "10. LastEditDate\n",
    "    - The date and time of the most recent edit to the post\n",
    "11. ParentId\n",
    "    - Row whose Parent is ParentId\n",
    "Sources:\n",
    "- stackexchange: \n",
    "    - Data Schema: https://meta.stackexchange.com/questions/2677/database-schema-documentation-for-the-public-data-dump-and-sede\n",
    "    - Score: https://meta.stackexchange.com/questions/229255/what-is-the-score-of-a-post\n",
    "    "
   ]
  },
  {
   "cell_type": "markdown",
   "metadata": {},
   "source": [
    "## Functions"
   ]
  },
  {
   "cell_type": "code",
   "execution_count": 2,
   "metadata": {},
   "outputs": [],
   "source": [
    "# Convert a value a datatype if not null\n",
    "def convert_to(val, typefunc):\n",
    "    if not np.isnan(val):\n",
    "        return typefunc(val)\n",
    "    else:\n",
    "        return val"
   ]
  },
  {
   "cell_type": "markdown",
   "metadata": {},
   "source": [
    "## Ingestion\n"
   ]
  },
  {
   "cell_type": "code",
   "execution_count": 3,
   "metadata": {},
   "outputs": [],
   "source": [
    "# original\n",
    "df_orig = pd.read_csv(\n",
    "    PATH_data + \"\\\\raw\\Posts.csv\", \n",
    "    index_col='Id'\n",
    ")\n",
    "\n",
    "# copies\n",
    "df = df_orig.copy()"
   ]
  },
  {
   "cell_type": "code",
   "execution_count": 4,
   "metadata": {
    "scrolled": false
   },
   "outputs": [
    {
     "name": "stdout",
     "output_type": "stream",
     "text": [
      "<class 'pandas.core.frame.DataFrame'>\n",
      "Int64Index: 42605 entries, 1 to 52454\n",
      "Data columns (total 23 columns):\n",
      " #   Column                 Non-Null Count  Dtype  \n",
      "---  ------                 --------------  -----  \n",
      " 0   Unnamed: 0             42605 non-null  int64  \n",
      " 1   AcceptedAnswerId       5081 non-null   float64\n",
      " 2   AnswerCount            9935 non-null   float64\n",
      " 3   Body                   42519 non-null  object \n",
      " 4   ClosedDate             1294 non-null   object \n",
      " 5   CommentCount           42605 non-null  int64  \n",
      " 6   CommunityOwnedDate     192 non-null    object \n",
      " 7   ContentLicense         42605 non-null  object \n",
      " 8   CreationDate           42605 non-null  object \n",
      " 9   FavoriteCount          4052 non-null   float64\n",
      " 10  LastActivityDate       42605 non-null  object \n",
      " 11  LastEditDate           15252 non-null  object \n",
      " 12  LastEditorDisplayName  988 non-null    object \n",
      " 13  LastEditorUserId       14439 non-null  float64\n",
      " 14  OwnerDisplayName       3351 non-null   object \n",
      " 15  OwnerUserId            39691 non-null  float64\n",
      " 16  ParentId               31935 non-null  float64\n",
      " 17  PostTypeId             42605 non-null  int64  \n",
      " 18  Score                  42605 non-null  int64  \n",
      " 19  Tags                   9935 non-null   object \n",
      " 20  Title                  9935 non-null   object \n",
      " 21  ViewCount              9935 non-null   float64\n",
      " 22  body_text              42519 non-null  object \n",
      "dtypes: float64(7), int64(4), object(12)\n",
      "memory usage: 7.8+ MB\n"
     ]
    }
   ],
   "source": [
    "# observations\n",
    "df.info()"
   ]
  },
  {
   "cell_type": "markdown",
   "metadata": {},
   "source": [
    "## Data Cleansing"
   ]
  },
  {
   "cell_type": "code",
   "execution_count": 5,
   "metadata": {},
   "outputs": [
    {
     "name": "stdout",
     "output_type": "stream",
     "text": [
      "<class 'pandas.core.frame.DataFrame'>\n",
      "Int64Index: 42605 entries, 1 to 52454\n",
      "Data columns (total 13 columns):\n",
      " #   Column            Non-Null Count  Dtype  \n",
      "---  ------            --------------  -----  \n",
      " 0   PostTypeId        42605 non-null  int64  \n",
      " 1   AcceptedAnswerId  5081 non-null   float64\n",
      " 2   ParentId          31935 non-null  float64\n",
      " 3   AnswerCount       9935 non-null   float64\n",
      " 4   CommentCount      42605 non-null  int64  \n",
      " 5   FavoriteCount     4052 non-null   float64\n",
      " 6   LastActivityDate  42605 non-null  object \n",
      " 7   CreationDate      42605 non-null  object \n",
      " 8   ClosedDate        1294 non-null   object \n",
      " 9   LastEditDate      15252 non-null  object \n",
      " 10  Score             42605 non-null  int64  \n",
      " 11  Title             9935 non-null   object \n",
      " 12  body_text         42519 non-null  object \n",
      "dtypes: float64(4), int64(3), object(6)\n",
      "memory usage: 4.6+ MB\n"
     ]
    }
   ],
   "source": [
    "# Define required columns\n",
    "columns = [\n",
    "    \"PostTypeId\", \"AcceptedAnswerId\", \"ParentId\", \"AnswerCount\", \n",
    "    \"CommentCount\", \"FavoriteCount\", \"LastActivityDate\", \"CreationDate\",\n",
    "    \"ClosedDate\", \"LastEditDate\", \"Score\", \"Title\", \"body_text\" \n",
    "          ]\n",
    "\n",
    "df1 = df.copy()\n",
    "df1 = df1.loc[:, columns]\n",
    "df1.info()"
   ]
  },
  {
   "cell_type": "code",
   "execution_count": 6,
   "metadata": {},
   "outputs": [
    {
     "name": "stdout",
     "output_type": "stream",
     "text": [
      "<class 'pandas.core.frame.DataFrame'>\n",
      "Int64Index: 42605 entries, 1 to 52454\n",
      "Data columns (total 13 columns):\n",
      " #   Column            Non-Null Count  Dtype         \n",
      "---  ------            --------------  -----         \n",
      " 0   PostTypeId        42605 non-null  int64         \n",
      " 1   AcceptedAnswerId  5081 non-null   float64       \n",
      " 2   ParentId          31935 non-null  float64       \n",
      " 3   AnswerCount       9935 non-null   float64       \n",
      " 4   CommentCount      42605 non-null  int64         \n",
      " 5   FavoriteCount     4052 non-null   float64       \n",
      " 6   LastActivityDate  42605 non-null  datetime64[ns]\n",
      " 7   CreationDate      42605 non-null  datetime64[ns]\n",
      " 8   ClosedDate        1294 non-null   datetime64[ns]\n",
      " 9   LastEditDate      15252 non-null  datetime64[ns]\n",
      " 10  Score             42605 non-null  int64         \n",
      " 11  Title             9935 non-null   object        \n",
      " 12  body_text         42519 non-null  object        \n",
      "dtypes: datetime64[ns](4), float64(4), int64(3), object(2)\n",
      "memory usage: 4.6+ MB\n"
     ]
    }
   ],
   "source": [
    "# id type conversion\n",
    "int_cols = [\"AcceptedAnswerId\", \"ParentId\"]\n",
    "date_cols = [\"LastActivityDate\", \"CreationDate\", \"ClosedDate\", \"LastEditDate\"]\n",
    "\n",
    "# convert to integer\n",
    "for col in int_cols:\n",
    "    df1.loc[:, col] = df1.loc[:, col].apply(lambda row: convert_to(row, int))\n",
    "\n",
    "# convert to datetime\n",
    "for col in date_cols:\n",
    "    df1.loc[:, col] = pd.to_datetime(df1.loc[:, col])\n",
    "    \n",
    "df1.info()"
   ]
  },
  {
   "cell_type": "markdown",
   "metadata": {},
   "source": [
    "## Feature Engineering\n",
    "\n",
    "1. Closed question -> Where ClosedDate is NaT\n",
    "2. question/answer -> Differentiate between a question, answer and everything else\n",
    "3. Comment Count -> High, medium, low based on histogram\n",
    "4. Score Count -> High, medium, low based on histogram"
   ]
  },
  {
   "cell_type": "code",
   "execution_count": 7,
   "metadata": {},
   "outputs": [],
   "source": [
    "# function definitions"
   ]
  },
  {
   "cell_type": "code",
   "execution_count": 8,
   "metadata": {},
   "outputs": [],
   "source": [
    "# make copy\n",
    "df2 = df1.copy()"
   ]
  },
  {
   "cell_type": "code",
   "execution_count": 9,
   "metadata": {},
   "outputs": [
    {
     "data": {
      "text/html": [
       "<div>\n",
       "<style scoped>\n",
       "    .dataframe tbody tr th:only-of-type {\n",
       "        vertical-align: middle;\n",
       "    }\n",
       "\n",
       "    .dataframe tbody tr th {\n",
       "        vertical-align: top;\n",
       "    }\n",
       "\n",
       "    .dataframe thead th {\n",
       "        text-align: right;\n",
       "    }\n",
       "</style>\n",
       "<table border=\"1\" class=\"dataframe\">\n",
       "  <thead>\n",
       "    <tr style=\"text-align: right;\">\n",
       "      <th></th>\n",
       "      <th>PostTypeId</th>\n",
       "      <th>AcceptedAnswerId</th>\n",
       "      <th>ParentId</th>\n",
       "      <th>AnswerCount</th>\n",
       "      <th>CommentCount</th>\n",
       "      <th>FavoriteCount</th>\n",
       "      <th>LastActivityDate</th>\n",
       "      <th>CreationDate</th>\n",
       "      <th>ClosedDate</th>\n",
       "      <th>LastEditDate</th>\n",
       "      <th>Score</th>\n",
       "      <th>Title</th>\n",
       "      <th>body_text</th>\n",
       "      <th>fe_tenure</th>\n",
       "      <th>fe_isclosed</th>\n",
       "      <th>fe_isquestion</th>\n",
       "      <th>fe_isanswer</th>\n",
       "      <th>fe_isfavorited</th>\n",
       "      <th>fe_wasedited</th>\n",
       "    </tr>\n",
       "    <tr>\n",
       "      <th>Id</th>\n",
       "      <th></th>\n",
       "      <th></th>\n",
       "      <th></th>\n",
       "      <th></th>\n",
       "      <th></th>\n",
       "      <th></th>\n",
       "      <th></th>\n",
       "      <th></th>\n",
       "      <th></th>\n",
       "      <th></th>\n",
       "      <th></th>\n",
       "      <th></th>\n",
       "      <th></th>\n",
       "      <th></th>\n",
       "      <th></th>\n",
       "      <th></th>\n",
       "      <th></th>\n",
       "      <th></th>\n",
       "      <th></th>\n",
       "    </tr>\n",
       "  </thead>\n",
       "  <tbody>\n",
       "    <tr>\n",
       "      <th>1</th>\n",
       "      <td>1</td>\n",
       "      <td>15.0</td>\n",
       "      <td>NaN</td>\n",
       "      <td>10.0</td>\n",
       "      <td>7</td>\n",
       "      <td>19.0</td>\n",
       "      <td>2019-03-31 20:10:59.657</td>\n",
       "      <td>2010-11-18 20:40:32.857</td>\n",
       "      <td>2019-09-09 15:44:30.727</td>\n",
       "      <td>2019-02-10 04:06:33.283</td>\n",
       "      <td>32</td>\n",
       "      <td>What are some online guides for starting writers?</td>\n",
       "      <td>I've always wanted to start writing (in a tota...</td>\n",
       "      <td>inf</td>\n",
       "      <td>0</td>\n",
       "      <td>0</td>\n",
       "      <td>0</td>\n",
       "      <td>0</td>\n",
       "      <td>0</td>\n",
       "    </tr>\n",
       "    <tr>\n",
       "      <th>2</th>\n",
       "      <td>1</td>\n",
       "      <td>16.0</td>\n",
       "      <td>NaN</td>\n",
       "      <td>7.0</td>\n",
       "      <td>0</td>\n",
       "      <td>5.0</td>\n",
       "      <td>2018-04-29 19:35:55.850</td>\n",
       "      <td>2010-11-18 20:42:31.513</td>\n",
       "      <td>NaT</td>\n",
       "      <td>2018-04-29 19:35:55.850</td>\n",
       "      <td>23</td>\n",
       "      <td>What is the difference between writing in the ...</td>\n",
       "      <td>What kind of story is better suited for each p...</td>\n",
       "      <td>inf</td>\n",
       "      <td>0</td>\n",
       "      <td>0</td>\n",
       "      <td>0</td>\n",
       "      <td>0</td>\n",
       "      <td>0</td>\n",
       "    </tr>\n",
       "    <tr>\n",
       "      <th>3</th>\n",
       "      <td>1</td>\n",
       "      <td>31.0</td>\n",
       "      <td>NaN</td>\n",
       "      <td>5.0</td>\n",
       "      <td>1</td>\n",
       "      <td>10.0</td>\n",
       "      <td>2018-05-04 11:04:09.610</td>\n",
       "      <td>2010-11-18 20:43:28.903</td>\n",
       "      <td>NaT</td>\n",
       "      <td>2018-05-04 11:04:09.610</td>\n",
       "      <td>35</td>\n",
       "      <td>How do I find an agent?</td>\n",
       "      <td>I finished my novel, and everyone I've talked ...</td>\n",
       "      <td>inf</td>\n",
       "      <td>0</td>\n",
       "      <td>0</td>\n",
       "      <td>0</td>\n",
       "      <td>0</td>\n",
       "      <td>0</td>\n",
       "    </tr>\n",
       "    <tr>\n",
       "      <th>5</th>\n",
       "      <td>1</td>\n",
       "      <td>NaN</td>\n",
       "      <td>NaN</td>\n",
       "      <td>8.0</td>\n",
       "      <td>1</td>\n",
       "      <td>4.0</td>\n",
       "      <td>2019-05-23 20:32:12.107</td>\n",
       "      <td>2010-11-18 20:43:59.693</td>\n",
       "      <td>NaT</td>\n",
       "      <td>2019-04-10 07:29:49.297</td>\n",
       "      <td>33</td>\n",
       "      <td>Decide on a theme/overarching meaning before w...</td>\n",
       "      <td>I want my short story to have a specific point...</td>\n",
       "      <td>inf</td>\n",
       "      <td>0</td>\n",
       "      <td>0</td>\n",
       "      <td>0</td>\n",
       "      <td>0</td>\n",
       "      <td>0</td>\n",
       "    </tr>\n",
       "    <tr>\n",
       "      <th>7</th>\n",
       "      <td>1</td>\n",
       "      <td>85.0</td>\n",
       "      <td>NaN</td>\n",
       "      <td>10.0</td>\n",
       "      <td>1</td>\n",
       "      <td>6.0</td>\n",
       "      <td>2018-04-29 19:26:50.553</td>\n",
       "      <td>2010-11-18 20:45:44.067</td>\n",
       "      <td>NaT</td>\n",
       "      <td>2010-11-18 21:16:41.767</td>\n",
       "      <td>22</td>\n",
       "      <td>What is Literary Fiction?</td>\n",
       "      <td>I keep hearing about literary fiction, and how...</td>\n",
       "      <td>inf</td>\n",
       "      <td>0</td>\n",
       "      <td>0</td>\n",
       "      <td>0</td>\n",
       "      <td>0</td>\n",
       "      <td>0</td>\n",
       "    </tr>\n",
       "  </tbody>\n",
       "</table>\n",
       "</div>"
      ],
      "text/plain": [
       "    PostTypeId  AcceptedAnswerId  ParentId  AnswerCount  CommentCount  \\\n",
       "Id                                                                      \n",
       "1            1              15.0       NaN         10.0             7   \n",
       "2            1              16.0       NaN          7.0             0   \n",
       "3            1              31.0       NaN          5.0             1   \n",
       "5            1               NaN       NaN          8.0             1   \n",
       "7            1              85.0       NaN         10.0             1   \n",
       "\n",
       "    FavoriteCount        LastActivityDate            CreationDate  \\\n",
       "Id                                                                  \n",
       "1            19.0 2019-03-31 20:10:59.657 2010-11-18 20:40:32.857   \n",
       "2             5.0 2018-04-29 19:35:55.850 2010-11-18 20:42:31.513   \n",
       "3            10.0 2018-05-04 11:04:09.610 2010-11-18 20:43:28.903   \n",
       "5             4.0 2019-05-23 20:32:12.107 2010-11-18 20:43:59.693   \n",
       "7             6.0 2018-04-29 19:26:50.553 2010-11-18 20:45:44.067   \n",
       "\n",
       "                ClosedDate            LastEditDate  Score  \\\n",
       "Id                                                          \n",
       "1  2019-09-09 15:44:30.727 2019-02-10 04:06:33.283     32   \n",
       "2                      NaT 2018-04-29 19:35:55.850     23   \n",
       "3                      NaT 2018-05-04 11:04:09.610     35   \n",
       "5                      NaT 2019-04-10 07:29:49.297     33   \n",
       "7                      NaT 2010-11-18 21:16:41.767     22   \n",
       "\n",
       "                                                Title  \\\n",
       "Id                                                      \n",
       "1   What are some online guides for starting writers?   \n",
       "2   What is the difference between writing in the ...   \n",
       "3                             How do I find an agent?   \n",
       "5   Decide on a theme/overarching meaning before w...   \n",
       "7                           What is Literary Fiction?   \n",
       "\n",
       "                                            body_text  fe_tenure  fe_isclosed  \\\n",
       "Id                                                                              \n",
       "1   I've always wanted to start writing (in a tota...        inf            0   \n",
       "2   What kind of story is better suited for each p...        inf            0   \n",
       "3   I finished my novel, and everyone I've talked ...        inf            0   \n",
       "5   I want my short story to have a specific point...        inf            0   \n",
       "7   I keep hearing about literary fiction, and how...        inf            0   \n",
       "\n",
       "    fe_isquestion  fe_isanswer  fe_isfavorited  fe_wasedited  \n",
       "Id                                                            \n",
       "1               0            0               0             0  \n",
       "2               0            0               0             0  \n",
       "3               0            0               0             0  \n",
       "5               0            0               0             0  \n",
       "7               0            0               0             0  "
      ]
     },
     "execution_count": 9,
     "metadata": {},
     "output_type": "execute_result"
    }
   ],
   "source": [
    "# set fe fields\n",
    "df2[\"fe_tenure\"]         = np.inf # time to close questions in hours\n",
    "df2[\"fe_isclosed\"]       = 0 # open vs closed question\n",
    "df2[\"fe_isquestion\"]     = 0 # question or answer\n",
    "df2[\"fe_isanswer\"]       = 0 # question or answer\n",
    "df2[\"fe_isfavorited\"]    = 0 # whether post was favorited or not\n",
    "df2[\"fe_wasedited\"]      = 0 # whether post was edited or not\n",
    "\n",
    "\n",
    "df2.head()"
   ]
  },
  {
   "cell_type": "code",
   "execution_count": 10,
   "metadata": {},
   "outputs": [],
   "source": [
    "# feature engineer - question/answer\n",
    "df2.loc[df2[\"PostTypeId\"] == 1, \"fe_isquestion\"]      = df2.loc[df2[\"PostTypeId\"] == 1, \"fe_isquestion\"].apply(lambda row: 1)\n",
    "df2.loc[df2[\"PostTypeId\"] == 2, \"fe_isanswer\"]        = df2.loc[df2[\"PostTypeId\"] == 2, \"fe_isanswer\"].apply(lambda row: 1)\n",
    "df2.loc[df2[\"FavoriteCount\"] > 0, \"fe_isfavorited\"]   = df2.loc[df2[\"FavoriteCount\"] > 0, \"fe_isfavorited\"].apply(lambda row: 1)\n",
    "df2.loc[df2.LastEditDate.isna(), \"fe_wasedited\"]      = df2.loc[df2.LastEditDate.isna(), \"fe_wasedited\"].apply(lambda row: 1)\n",
    "\n",
    "# feature engineer - tenure of post in hours\n",
    "df2.loc[:, 'fe_tenure'] = (df2[\"ClosedDate\"] - df2[\"CreationDate\"]).apply(\n",
    "    lambda row: np.inf \\\n",
    "        if pd.isnull(row) \\\n",
    "        else (row.days)*24   \n",
    ")\n",
    "df2.head()\n",
    "\n",
    "# feature engineer - post is open/closed\n",
    "df2.loc[:, \"fe_isclosed\"] = df2[\"fe_tenure\"].apply(lambda row: 0 if row == np.inf else 1)"
   ]
  },
  {
   "cell_type": "markdown",
   "metadata": {},
   "source": [
    "## Data Exploration"
   ]
  },
  {
   "cell_type": "code",
   "execution_count": 11,
   "metadata": {},
   "outputs": [
    {
     "data": {
      "text/plain": [
       "<AxesSubplot:>"
      ]
     },
     "execution_count": 11,
     "metadata": {},
     "output_type": "execute_result"
    },
    {
     "data": {
      "image/png": "[encoded data removed]",
      "text/plain": [
       "<Figure size 432x288 with 1 Axes>"
      ]
     },
     "metadata": {
      "needs_background": "light"
     },
     "output_type": "display_data"
    }
   ],
   "source": [
    "# Comments distributions\n",
    "# High: 1 & 2\n",
    "# Medium: 3 & 9\n",
    "# Low: > 10\n",
    "\n",
    "df2.loc[:, \"CommentCount\"].hist(bins=20)"
   ]
  },
  {
   "cell_type": "code",
   "execution_count": 12,
   "metadata": {},
   "outputs": [
    {
     "data": {
      "text/plain": [
       "<AxesSubplot:>"
      ]
     },
     "execution_count": 12,
     "metadata": {},
     "output_type": "execute_result"
    },
    {
     "data": {
      "image/png": "[encoded data removed]",
      "text/plain": [
       "<Figure size 432x288 with 1 Axes>"
      ]
     },
     "metadata": {
      "needs_background": "light"
     },
     "output_type": "display_data"
    }
   ],
   "source": [
    "# Scores distributions\n",
    "# Negative: < 0\n",
    "# Average: 1 & 25\n",
    "# High: > 26\n",
    "\n",
    "df2.loc[:, \"Score\"].hist(bins=20)"
   ]
  },
  {
   "cell_type": "code",
   "execution_count": 13,
   "metadata": {},
   "outputs": [
    {
     "name": "stdout",
     "output_type": "stream",
     "text": [
      "count     1294.000000\n",
      "mean      1976.698609\n",
      "std       8755.975047\n",
      "min          0.000000\n",
      "25%          0.000000\n",
      "50%         24.000000\n",
      "75%         96.000000\n",
      "max      77184.000000\n",
      "Name: fe_tenure, dtype: float64\n"
     ]
    },
    {
     "data": {
      "image/png": "[encoded data removed]",
      "text/plain": [
       "<Figure size 432x288 with 1 Axes>"
      ]
     },
     "metadata": {
      "needs_background": "light"
     },
     "output_type": "display_data"
    }
   ],
   "source": [
    "# tenure distribution of closed questions\n",
    "df2.loc[df2[\"fe_isclosed\"] == 1, \"fe_tenure\"].hist()\n",
    "print(df2.loc[df2[\"fe_isclosed\"]==1, \"fe_tenure\"].describe())"
   ]
  },
  {
   "cell_type": "code",
   "execution_count": 14,
   "metadata": {},
   "outputs": [
    {
     "name": "stdout",
     "output_type": "stream",
     "text": [
      "count    9935.000000\n",
      "mean        3.214394\n",
      "std         2.649237\n",
      "min         0.000000\n",
      "25%         1.000000\n",
      "50%         2.000000\n",
      "75%         4.000000\n",
      "max        41.000000\n",
      "Name: AnswerCount, dtype: float64\n"
     ]
    },
    {
     "data": {
      "image/png": "[encoded data removed]",
      "text/plain": [
       "<Figure size 432x288 with 1 Axes>"
      ]
     },
     "metadata": {
      "needs_background": "light"
     },
     "output_type": "display_data"
    }
   ],
   "source": [
    "# Count of answers distribution of closed questions\n",
    "df2.loc[:, \"AnswerCount\"].hist()\n",
    "print(df2.loc[:, \"AnswerCount\"].describe())"
   ]
  },
  {
   "cell_type": "code",
   "execution_count": 15,
   "metadata": {},
   "outputs": [
    {
     "name": "stdout",
     "output_type": "stream",
     "text": [
      "count    4052.000000\n",
      "mean        2.725814\n",
      "std         5.171041\n",
      "min         0.000000\n",
      "25%         1.000000\n",
      "50%         1.000000\n",
      "75%         3.000000\n",
      "max       227.000000\n",
      "Name: FavoriteCount, dtype: float64\n"
     ]
    },
    {
     "data": {
      "image/png": "[encoded data removed]",
      "text/plain": [
       "<Figure size 432x288 with 1 Axes>"
      ]
     },
     "metadata": {
      "needs_background": "light"
     },
     "output_type": "display_data"
    }
   ],
   "source": [
    "# Count of favorited distribution of closed questions\n",
    "df2.loc[:, \"FavoriteCount\"].hist()\n",
    "print(df2.loc[:, \"FavoriteCount\"].describe())"
   ]
  },
  {
   "cell_type": "markdown",
   "metadata": {},
   "source": [
    "## Data Merging\n",
    "\n",
    "- Produce the following dataframe;\n",
    "1. questions_asked\n",
    "2. answer_provided\n",
    "\n",
    "SQL\n",
    "\n",
    "    SELECT \n",
    "        df1.Title as Title,\n",
    "        df1.body_text as question\n",
    "        df2.body_text as accepted_answer\n",
    "    FROM df2 as d1\n",
    "    LEFT INNER JOIN df2 as d2\n",
    "    ON df1.AcceptedAnswerId = df2.Id"
   ]
  },
  {
   "cell_type": "code",
   "execution_count": 16,
   "metadata": {},
   "outputs": [
    {
     "name": "stdout",
     "output_type": "stream",
     "text": [
      "<class 'pandas.core.frame.DataFrame'>\n",
      "Int64Index: 42605 entries, 1 to 52454\n",
      "Data columns (total 19 columns):\n",
      " #   Column            Non-Null Count  Dtype         \n",
      "---  ------            --------------  -----         \n",
      " 0   PostTypeId        42605 non-null  int64         \n",
      " 1   AcceptedAnswerId  5081 non-null   float64       \n",
      " 2   ParentId          31935 non-null  float64       \n",
      " 3   AnswerCount       9935 non-null   float64       \n",
      " 4   CommentCount      42605 non-null  int64         \n",
      " 5   FavoriteCount     4052 non-null   float64       \n",
      " 6   LastActivityDate  42605 non-null  datetime64[ns]\n",
      " 7   CreationDate      42605 non-null  datetime64[ns]\n",
      " 8   ClosedDate        1294 non-null   datetime64[ns]\n",
      " 9   LastEditDate      15252 non-null  datetime64[ns]\n",
      " 10  Score             42605 non-null  int64         \n",
      " 11  Title             9935 non-null   object        \n",
      " 12  body_text         42519 non-null  object        \n",
      " 13  fe_tenure         42605 non-null  float64       \n",
      " 14  fe_isclosed       42605 non-null  int64         \n",
      " 15  fe_isquestion     42605 non-null  int64         \n",
      " 16  fe_isanswer       42605 non-null  int64         \n",
      " 17  fe_isfavorited    42605 non-null  int64         \n",
      " 18  fe_wasedited      42605 non-null  int64         \n",
      "dtypes: datetime64[ns](4), float64(5), int64(8), object(2)\n",
      "memory usage: 6.5+ MB\n"
     ]
    }
   ],
   "source": [
    "df3 = df2.copy()\n",
    "df3.info()"
   ]
  },
  {
   "cell_type": "code",
   "execution_count": 17,
   "metadata": {},
   "outputs": [],
   "source": [
    "# prepare dataframes\n",
    "df_questions = df3.loc[df3[\"fe_isquestion\"] == 1, :]\n",
    "df_answers   = df3.loc[df3[\"fe_isanswer\"] == 1, :]\n",
    "\n",
    "# reset indexes\n",
    "df_questions.reset_index(inplace=True)\n",
    "df_answers.reset_index(inplace=True)\n",
    "\n",
    "df_questions.to_csv(PATH_data+\"\\\\out\\post_questions.csv\")\n",
    "df_answers.to_csv(PATH_data+\"\\\\out\\post_answers.csv\")\n",
    "df3.to_csv(PATH_data+\"\\\\out\\cleaned_data.csv\")"
   ]
  },
  {
   "cell_type": "code",
   "execution_count": 18,
   "metadata": {
    "scrolled": false
   },
   "outputs": [
    {
     "name": "stdout",
     "output_type": "stream",
     "text": [
      "<class 'pandas.core.frame.DataFrame'>\n",
      "Int64Index: 5081 entries, 0 to 5080\n",
      "Data columns (total 40 columns):\n",
      " #   Column              Non-Null Count  Dtype         \n",
      "---  ------              --------------  -----         \n",
      " 0   Id_x                5081 non-null   int64         \n",
      " 1   PostTypeId_x        5081 non-null   int64         \n",
      " 2   AcceptedAnswerId_x  5081 non-null   float64       \n",
      " 3   ParentId_x          0 non-null      float64       \n",
      " 4   AnswerCount_x       5081 non-null   float64       \n",
      " 5   CommentCount_x      5081 non-null   int64         \n",
      " 6   FavoriteCount_x     2399 non-null   float64       \n",
      " 7   LastActivityDate_x  5081 non-null   datetime64[ns]\n",
      " 8   CreationDate_x      5081 non-null   datetime64[ns]\n",
      " 9   ClosedDate_x        398 non-null    datetime64[ns]\n",
      " 10  LastEditDate_x      3254 non-null   datetime64[ns]\n",
      " 11  Score_x             5081 non-null   int64         \n",
      " 12  Title_x             5081 non-null   object        \n",
      " 13  body_text_x         5081 non-null   object        \n",
      " 14  fe_tenure_x         5081 non-null   float64       \n",
      " 15  fe_isclosed_x       5081 non-null   int64         \n",
      " 16  fe_isquestion_x     5081 non-null   int64         \n",
      " 17  fe_isanswer_x       5081 non-null   int64         \n",
      " 18  fe_isfavorited_x    5081 non-null   int64         \n",
      " 19  fe_wasedited_x      5081 non-null   int64         \n",
      " 20  Id_y                5081 non-null   int64         \n",
      " 21  PostTypeId_y        5081 non-null   int64         \n",
      " 22  AcceptedAnswerId_y  0 non-null      float64       \n",
      " 23  ParentId_y          5081 non-null   float64       \n",
      " 24  AnswerCount_y       0 non-null      float64       \n",
      " 25  CommentCount_y      5081 non-null   int64         \n",
      " 26  FavoriteCount_y     0 non-null      float64       \n",
      " 27  LastActivityDate_y  5081 non-null   datetime64[ns]\n",
      " 28  CreationDate_y      5081 non-null   datetime64[ns]\n",
      " 29  ClosedDate_y        0 non-null      datetime64[ns]\n",
      " 30  LastEditDate_y      1756 non-null   datetime64[ns]\n",
      " 31  Score_y             5081 non-null   int64         \n",
      " 32  Title_y             0 non-null      object        \n",
      " 33  body_text_y         5081 non-null   object        \n",
      " 34  fe_tenure_y         5081 non-null   float64       \n",
      " 35  fe_isclosed_y       5081 non-null   int64         \n",
      " 36  fe_isquestion_y     5081 non-null   int64         \n",
      " 37  fe_isanswer_y       5081 non-null   int64         \n",
      " 38  fe_isfavorited_y    5081 non-null   int64         \n",
      " 39  fe_wasedited_y      5081 non-null   int64         \n",
      "dtypes: datetime64[ns](8), float64(10), int64(18), object(4)\n",
      "memory usage: 1.6+ MB\n"
     ]
    }
   ],
   "source": [
    "# left inner join questions and answers\n",
    "df_qa = df_questions\\\n",
    "    .merge(df_answers, left_on=\"AcceptedAnswerId\", right_on=\"Id\", how=\"inner\")\n",
    "\n",
    "df_qa.info()"
   ]
  },
  {
   "cell_type": "code",
   "execution_count": 19,
   "metadata": {},
   "outputs": [],
   "source": [
    "# prepare dataframe and export\n",
    "_df = df_qa.loc[:, \n",
    "                [\n",
    "    \"Title_x\", \"body_text_x\", \"body_text_y\", \n",
    "    \"CommentCount_x\", \"AnswerCount_x\", \"FavoriteCount_x\", \n",
    "    \"CommentCount_y\", \"Score_x\", \"fe_tenure_x\", \n",
    "    \"LastEditDate_x\", \"LastEditDate_y\",\n",
    "    \"LastActivityDate_x\", \"LastActivityDate_y\",\n",
    "    \"fe_isclosed_x\", \"fe_wasedited_x\", \"fe_wasedited_y\"\n",
    "#     \"fe_isanswer_x\"\n",
    "                ]\n",
    "]\n",
    "\n",
    "_df\\\n",
    "    .rename(columns= {\n",
    "        \"Title_x\"           : \"post_title\", \n",
    "        \"body_text_x\"       : \"post_question\", \n",
    "        \"body_text_y\"       : \"post_acceptedanswer\",\n",
    "        \"Score_x\"           : \"post_score\",\n",
    "        \"CommentCount_x\"    : \"postcomments_count\",\n",
    "        \"AnswerCount_x\"     : \"postanswers_count\",\n",
    "        \"FavoriteCount_x\"   : \"postfavorites_count\",\n",
    "        \"CommentCount_y\"    : \"answercomments_count\",\n",
    "        \"fe_tenure_x\"       : \"tenure_hours\",\n",
    "        \"fe_isclosed_x\"     : \"post_closed\",\n",
    "        \"fe_wasedited_x\"    : \"question_edited\", \n",
    "        \"fe_wasedited_y\"    : \"answer_edited\",\n",
    "        \"LastActivityDate_x\": \"question_lastactivity\",\n",
    "        \"LastActivityDate_y\": \"answer_lastactivity\",\n",
    "        \"LastEditDate_x\"    : \"question_lastedited\",\n",
    "        \"LastEditDate_y\"    : \"answer_lastedited\"\n",
    "        }, inplace=True)\n",
    "_df.to_csv(PATH_data+\"\\\\out\\questions_answers.csv\")"
   ]
  },
  {
   "cell_type": "markdown",
   "metadata": {},
   "source": [
    "## Sanity check's"
   ]
  },
  {
   "cell_type": "code",
   "execution_count": 20,
   "metadata": {},
   "outputs": [],
   "source": [
    "# get questions received no answer\n",
    "# how many received at least one\n",
    "# how many had an answer that was accepted\n",
    "\n",
    "df_hasnoanswer       = ((df3.fe_isquestion == 1) & (df3.AcceptedAnswerId.isna()) & (df3.AnswerCount < 1))\n",
    "df_morethanoneanswer = ((df3.loc[df3.fe_isanswer == 1, \"ParentId\"].value_counts() > 1) == True)\n",
    "df_acceptedAnswers   = df3.loc[(df3.fe_isquestion == 1) & (df3.AcceptedAnswerId.isna() == False)]"
   ]
  },
  {
   "cell_type": "code",
   "execution_count": 21,
   "metadata": {},
   "outputs": [
    {
     "name": "stdout",
     "output_type": "stream",
     "text": [
      "\n",
      "\n",
      "Questions that,\n",
      "\n",
      "1. Recieved no answer: 257\n",
      "2. Recieved more than one answer: 7234 \n",
      "3. Recieved an answer that was accepted: 5081\n",
      "\n"
     ]
    }
   ],
   "source": [
    "print(f\"\"\"\n",
    "\n",
    "Questions that,\n",
    "\n",
    "1. Recieved no answer: {df_hasnoanswer.value_counts().loc[True]}\n",
    "2. Recieved more than one answer: {df_morethanoneanswer.value_counts().loc[True]} \n",
    "3. Recieved an answer that was accepted: {len(df_acceptedAnswers.index)}\n",
    "\"\"\")"
   ]
  },
  {
   "cell_type": "code",
   "execution_count": null,
   "metadata": {},
   "outputs": [],
   "source": []
  }
 ],
 "metadata": {
  "kernelspec": {
   "display_name": "Python 3",
   "language": "python",
   "name": "python3"
  },
  "language_info": {
   "codemirror_mode": {
    "name": "ipython",
    "version": 3
   },
   "file_extension": ".py",
   "mimetype": "text/x-python",
   "name": "python",
   "nbconvert_exporter": "python",
   "pygments_lexer": "ipython3",
   "version": "3.8.5"
  },
  "toc": {
   "base_numbering": 1,
   "nav_menu": {},
   "number_sections": true,
   "sideBar": true,
   "skip_h1_title": false,
   "title_cell": "Table of Contents",
   "title_sidebar": "Contents",
   "toc_cell": false,
   "toc_position": {},
   "toc_section_display": true,
   "toc_window_display": false
  },
  "varInspector": {
   "cols": {
    "lenName": 16,
    "lenType": 16,
    "lenVar": 40
   },
   "kernels_config": {
    "python": {
     "delete_cmd_postfix": "",
     "delete_cmd_prefix": "del ",
     "library": "var_list.py",
     "varRefreshCmd": "print(var_dic_list())"
    },
    "r": {
     "delete_cmd_postfix": ") ",
     "delete_cmd_prefix": "rm(",
     "library": "var_list.r",
     "varRefreshCmd": "cat(var_dic_list()) "
    }
   },
   "types_to_exclude": [
    "module",
    "function",
    "builtin_function_or_method",
    "instance",
    "_Feature"
   ],
   "window_display": false
  }
 },
 "nbformat": 4,
 "nbformat_minor": 4
}
