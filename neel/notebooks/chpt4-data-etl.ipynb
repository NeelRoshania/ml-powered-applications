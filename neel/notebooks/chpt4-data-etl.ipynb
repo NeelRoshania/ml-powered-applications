{
 "cells": [
  {
   "cell_type": "markdown",
   "metadata": {},
   "source": [
    "# ML Powered Applications"
   ]
  },
  {
   "cell_type": "markdown",
   "metadata": {},
   "source": [
    "# Chapter 4\n",
    "\n",
    "Data preration notebook to better understand the data.\n",
    "\n",
    "Objective\n",
    "- To produce an etl capable of producing datasets on request\n",
    "\n",
    "Process\n",
    "- Import data\n",
    "- Clean data types\n",
    "- Flag outliers"
   ]
  },
  {
   "cell_type": "code",
   "execution_count": 1,
   "metadata": {},
   "outputs": [],
   "source": [
    "# library dependencies\n",
    "import pandas as pd\n",
    "import numpy as np\n",
    "import re\n",
    "from datetime import datetime\n",
    "\n",
    "# intialization\n",
    "PATH_data = r\"C:\\Users\\nrosh\\Desktop\\Personal Coding Projects\\Python\\ml-powered-applications\\neel\\data\""
   ]
  },
  {
   "cell_type": "markdown",
   "metadata": {},
   "source": [
    "## Domain research"
   ]
  },
  {
   "cell_type": "markdown",
   "metadata": {},
   "source": [
    "Data structure\n",
    "1. PostType: \n",
    "    - {1: Question, 2: Answer}\n",
    "2. AcceptedAnswerId: \n",
    "    - Row Id that answers a id. One Id can have many AcceptedAnswerId's\n",
    "3. Score: \n",
    "    - Number of upvotes - Number of downvotes\n",
    "4. ViewCount: \n",
    "    - Number of post views\n",
    "5. body_text: \n",
    "    - Text associate with row entry id\n",
    "6. FavoriteCount: \n",
    "    - Number of times the post was favorited\n",
    "7. CommentCount: \n",
    "    - Number of times a comment was made on the Post\n",
    "8. CreationDate: \n",
    "    - Date the post was created\n",
    "9. LastActivityDate:\n",
    "    - datetime of the post's most recent activity\n",
    "10. LastEditDate\n",
    "    - The date and time of the most recent edit to the post\n",
    "11. ParentId\n",
    "    - Row whose Parent is ParentId\n",
    "Sources:\n",
    "- stackexchange: \n",
    "    - Data Schema: https://meta.stackexchange.com/questions/2677/database-schema-documentation-for-the-public-data-dump-and-sede\n",
    "    - Score: https://meta.stackexchange.com/questions/229255/what-is-the-score-of-a-post\n",
    "    "
   ]
  },
  {
   "cell_type": "markdown",
   "metadata": {},
   "source": [
    "## Functions"
   ]
  },
  {
   "cell_type": "code",
   "execution_count": 2,
   "metadata": {},
   "outputs": [],
   "source": [
    "# Convert a value a datatype if not null\n",
    "def convert_to(val, typefunc):\n",
    "    if not np.isnan(val):\n",
    "        return typefunc(val)\n",
    "    else:\n",
    "        return val"
   ]
  },
  {
   "cell_type": "markdown",
   "metadata": {},
   "source": [
    "## Ingestion\n"
   ]
  },
  {
   "cell_type": "code",
   "execution_count": 3,
   "metadata": {},
   "outputs": [],
   "source": [
    "# original\n",
    "df_orig = pd.read_csv(\n",
    "    PATH_data + \"\\\\raw\\Posts.csv\", \n",
    "    index_col='Id'\n",
    ")\n",
    "\n",
    "# copies\n",
    "df = df_orig.copy()"
   ]
  },
  {
   "cell_type": "markdown",
   "metadata": {},
   "source": [
    "## Data Cleansing"
   ]
  },
  {
   "cell_type": "code",
   "execution_count": 4,
   "metadata": {},
   "outputs": [],
   "source": [
    "# Define required columns\n",
    "columns = [\n",
    "    \"PostTypeId\", \"AcceptedAnswerId\", \"ParentId\", \"AnswerCount\", \n",
    "    \"CommentCount\", \"FavoriteCount\", \"LastActivityDate\", \"CreationDate\",\n",
    "    \"ClosedDate\", \"LastEditDate\", \"Score\", \"Title\", \"body_text\" \n",
    "          ]\n",
    "\n",
    "df1 = df.copy()\n",
    "df1 = df1.loc[:, columns]"
   ]
  },
  {
   "cell_type": "code",
   "execution_count": 5,
   "metadata": {},
   "outputs": [
    {
     "name": "stdout",
     "output_type": "stream",
     "text": [
      "<class 'pandas.core.frame.DataFrame'>\n",
      "Int64Index: 42605 entries, 1 to 52454\n",
      "Data columns (total 13 columns):\n",
      " #   Column            Non-Null Count  Dtype         \n",
      "---  ------            --------------  -----         \n",
      " 0   PostTypeId        42605 non-null  int64         \n",
      " 1   AcceptedAnswerId  5081 non-null   float64       \n",
      " 2   ParentId          31935 non-null  float64       \n",
      " 3   AnswerCount       9935 non-null   float64       \n",
      " 4   CommentCount      42605 non-null  int64         \n",
      " 5   FavoriteCount     4052 non-null   float64       \n",
      " 6   LastActivityDate  42605 non-null  datetime64[ns]\n",
      " 7   CreationDate      42605 non-null  datetime64[ns]\n",
      " 8   ClosedDate        1294 non-null   datetime64[ns]\n",
      " 9   LastEditDate      15252 non-null  datetime64[ns]\n",
      " 10  Score             42605 non-null  int64         \n",
      " 11  Title             9935 non-null   object        \n",
      " 12  body_text         42519 non-null  object        \n",
      "dtypes: datetime64[ns](4), float64(4), int64(3), object(2)\n",
      "memory usage: 4.6+ MB\n"
     ]
    }
   ],
   "source": [
    "# id type conversion\n",
    "int_cols = [\"AcceptedAnswerId\", \"ParentId\"]\n",
    "date_cols = [\"LastActivityDate\", \"CreationDate\", \"ClosedDate\", \"LastEditDate\"]\n",
    "\n",
    "# convert to integer\n",
    "for col in int_cols:\n",
    "    df1.loc[:, col] = df1.loc[:, col].apply(lambda row: convert_to(row, int))\n",
    "\n",
    "# convert to datetime\n",
    "for col in date_cols:\n",
    "    df1.loc[:, col] = pd.to_datetime(df1.loc[:, col])\n",
    "    \n",
    "df1.info()"
   ]
  },
  {
   "cell_type": "markdown",
   "metadata": {},
   "source": [
    "## Feature Engineering\n",
    "\n",
    "1. Closed question -> Where ClosedDate is NaT\n",
    "2. question/answer -> Differentiate between a question, answer and everything else\n",
    "3. Comment Count -> High, medium, low based on histogram\n",
    "4. Score Count -> High, medium, low based on histogram"
   ]
  },
  {
   "cell_type": "code",
   "execution_count": 6,
   "metadata": {},
   "outputs": [],
   "source": [
    "# function definitions"
   ]
  },
  {
   "cell_type": "code",
   "execution_count": 7,
   "metadata": {},
   "outputs": [],
   "source": [
    "# make copy\n",
    "df2 = df1.copy()"
   ]
  },
  {
   "cell_type": "code",
   "execution_count": 8,
   "metadata": {},
   "outputs": [],
   "source": [
    "# define new features here\n",
    "df2[\"fe_tenure\"]         = np.inf # time to close questions in hours\n",
    "df2[\"fe_isclosed\"]       = 0 # open vs closed question\n",
    "df2[\"fe_isquestion\"]     = 0 # question or answer\n",
    "df2[\"fe_isanswer\"]       = 0 # question or answer\n",
    "df2[\"fe_isfavorited\"]    = 0 # whether post was favorited or not\n",
    "df2[\"fe_wasedited\"]      = 0 # whether post was edited or not\n",
    "df2[\"fe_question_answered\"] = 0 # whehter a post was answered or not"
   ]
  },
  {
   "cell_type": "code",
   "execution_count": 9,
   "metadata": {},
   "outputs": [
    {
     "name": "stdout",
     "output_type": "stream",
     "text": [
      "<class 'pandas.core.frame.DataFrame'>\n",
      "Int64Index: 42605 entries, 1 to 52454\n",
      "Data columns (total 20 columns):\n",
      " #   Column                Non-Null Count  Dtype         \n",
      "---  ------                --------------  -----         \n",
      " 0   PostTypeId            42605 non-null  int64         \n",
      " 1   AcceptedAnswerId      5081 non-null   float64       \n",
      " 2   ParentId              31935 non-null  float64       \n",
      " 3   AnswerCount           9935 non-null   float64       \n",
      " 4   CommentCount          42605 non-null  int64         \n",
      " 5   FavoriteCount         4052 non-null   float64       \n",
      " 6   LastActivityDate      42605 non-null  datetime64[ns]\n",
      " 7   CreationDate          42605 non-null  datetime64[ns]\n",
      " 8   ClosedDate            1294 non-null   datetime64[ns]\n",
      " 9   LastEditDate          15252 non-null  datetime64[ns]\n",
      " 10  Score                 42605 non-null  int64         \n",
      " 11  Title                 9935 non-null   object        \n",
      " 12  body_text             42519 non-null  object        \n",
      " 13  fe_tenure             42605 non-null  float64       \n",
      " 14  fe_isclosed           42605 non-null  int64         \n",
      " 15  fe_isquestion         42605 non-null  int64         \n",
      " 16  fe_isanswer           42605 non-null  int64         \n",
      " 17  fe_isfavorited        42605 non-null  int64         \n",
      " 18  fe_wasedited          42605 non-null  int64         \n",
      " 19  fe_question_answered  42605 non-null  int64         \n",
      "dtypes: datetime64[ns](4), float64(5), int64(9), object(2)\n",
      "memory usage: 6.8+ MB\n"
     ]
    }
   ],
   "source": [
    "# feature engineer - question/answer\n",
    "df2.loc[df2[\"PostTypeId\"] == 1, \"fe_isquestion\"]      = df2.loc[df2[\"PostTypeId\"] == 1, \"fe_isquestion\"].apply(lambda row: 1)\n",
    "df2.loc[df2[\"PostTypeId\"] == 2, \"fe_isanswer\"]        = df2.loc[df2[\"PostTypeId\"] == 2, \"fe_isanswer\"].apply(lambda row: 1)\n",
    "df2.loc[df2[\"FavoriteCount\"] > 0, \"fe_isfavorited\"]   = df2.loc[df2[\"FavoriteCount\"] > 0, \"fe_isfavorited\"].apply(lambda row: 1)\n",
    "df2.loc[df2.LastEditDate.isna(), \"fe_wasedited\"]      = df2.loc[df2.LastEditDate.isna(), \"fe_wasedited\"].apply(lambda row: 1)\n",
    "\n",
    "# feature engineer - tenure of post in hours\n",
    "df2.loc[:, 'fe_tenure'] = (df2[\"ClosedDate\"] - df2[\"CreationDate\"]).apply(\n",
    "    lambda row: np.inf \\\n",
    "        if pd.isnull(row) \\\n",
    "        else (row.days)*24   \n",
    ")\n",
    "df2.head()\n",
    "\n",
    "# feature engineer - post is open/closed\n",
    "df2.loc[:, \"fe_isclosed\"] = df2[\"fe_tenure\"].apply(lambda row: 0 if row == np.inf else 1)\n",
    "\n",
    "# feature engineer whether a question was answered or not\n",
    "df2.loc[(df2[\"AcceptedAnswerId\"]) > 0, \"fe_question_answered\"] = 1\n",
    "\n",
    "df2.info()"
   ]
  },
  {
   "cell_type": "markdown",
   "metadata": {},
   "source": [
    "## Data Merging\n",
    "\n",
    "- Produce the following dataframe;\n",
    "1. questions_asked\n",
    "2. answer_provided\n",
    "\n",
    "SQL\n",
    "\n",
    "    SELECT \n",
    "        df1.Title as Title,\n",
    "        df1.body_text as question\n",
    "        df2.body_text as accepted_answer\n",
    "    FROM df2 as d1\n",
    "    LEFT INNER JOIN df2 as d2\n",
    "    ON df1.AcceptedAnswerId = df2.Id"
   ]
  },
  {
   "cell_type": "code",
   "execution_count": 10,
   "metadata": {},
   "outputs": [
    {
     "name": "stdout",
     "output_type": "stream",
     "text": [
      "<class 'pandas.core.frame.DataFrame'>\n",
      "Int64Index: 42605 entries, 1 to 52454\n",
      "Data columns (total 20 columns):\n",
      " #   Column                Non-Null Count  Dtype         \n",
      "---  ------                --------------  -----         \n",
      " 0   PostTypeId            42605 non-null  int64         \n",
      " 1   AcceptedAnswerId      5081 non-null   float64       \n",
      " 2   ParentId              31935 non-null  float64       \n",
      " 3   AnswerCount           9935 non-null   float64       \n",
      " 4   CommentCount          42605 non-null  int64         \n",
      " 5   FavoriteCount         4052 non-null   float64       \n",
      " 6   LastActivityDate      42605 non-null  datetime64[ns]\n",
      " 7   CreationDate          42605 non-null  datetime64[ns]\n",
      " 8   ClosedDate            1294 non-null   datetime64[ns]\n",
      " 9   LastEditDate          15252 non-null  datetime64[ns]\n",
      " 10  Score                 42605 non-null  int64         \n",
      " 11  Title                 9935 non-null   object        \n",
      " 12  body_text             42519 non-null  object        \n",
      " 13  fe_tenure             42605 non-null  float64       \n",
      " 14  fe_isclosed           42605 non-null  int64         \n",
      " 15  fe_isquestion         42605 non-null  int64         \n",
      " 16  fe_isanswer           42605 non-null  int64         \n",
      " 17  fe_isfavorited        42605 non-null  int64         \n",
      " 18  fe_wasedited          42605 non-null  int64         \n",
      " 19  fe_question_answered  42605 non-null  int64         \n",
      "dtypes: datetime64[ns](4), float64(5), int64(9), object(2)\n",
      "memory usage: 6.8+ MB\n"
     ]
    }
   ],
   "source": [
    "df3 = df2.copy()\n",
    "df3.info()"
   ]
  },
  {
   "cell_type": "code",
   "execution_count": 19,
   "metadata": {},
   "outputs": [],
   "source": [
    "def export_df(df, cols, **kwargs):\n",
    "\n",
    "    # rename and return a dataframe of those columns\n",
    "    # choose to export or not\n",
    "    \n",
    "    _df = df.loc[:, cols]\n",
    "    \n",
    "    # rename dict\n",
    "    if \"rename_dict\" in kwargs.keys() :\n",
    "        _df.rename(columns=kwargs[\"rename_dict\"], inplace=True)\n",
    "        print('- Columns renamed.')\n",
    "    \n",
    "    # export data\n",
    "    if kwargs[\"export_loc\"]:\n",
    "        \n",
    "        # handle data export\n",
    "        try:\n",
    "            \n",
    "            if \"export_name\" in kwargs.keys():\n",
    "                _location = kwargs[\"export_loc\"] + \"\\\\{}\".format(kwargs[\"export_name\"]) + \".csv\"\n",
    "                _df.to_csv(_location)\n",
    "                print(f\"\"\"- File exported to: {_location}\"\"\")\n",
    "            else:\n",
    "                _location = kwargs[\"export_loc\"]+\"\\\\adhoc_{}\".format(datetime.today().strftime(\"%m%d%y\"))+\".csv\"\n",
    "                _df.to_csv(_location)\n",
    "                print(f\"\"\"- File exported to: {_location}\"\"\")\n",
    "\n",
    "        except:\n",
    "            raise Exception(f\"\"\"export_loc must be of type str. Given: {type(kwargs[\"export_loc\"])}\"\"\")\n",
    "    \n",
    "    print('\\n')\n",
    "    return _df"
   ]
  },
  {
   "cell_type": "code",
   "execution_count": 12,
   "metadata": {},
   "outputs": [],
   "source": [
    "# prepare dataframes\n",
    "df_questions = df3.loc[df3[\"fe_isquestion\"] == 1, :]\n",
    "df_answers   = df3.loc[df3[\"fe_isanswer\"] == 1, :]\n",
    "\n",
    "# reset indexes\n",
    "df_questions.reset_index(inplace=True)\n",
    "df_answers.reset_index(inplace=True)\n",
    "\n",
    "df_questions.to_csv(PATH_data+\"\\\\out\\post_questions.csv\")\n",
    "df_answers.to_csv(PATH_data+\"\\\\out\\post_answers.csv\")"
   ]
  },
  {
   "cell_type": "code",
   "execution_count": 13,
   "metadata": {
    "scrolled": false
   },
   "outputs": [
    {
     "name": "stdout",
     "output_type": "stream",
     "text": [
      "<class 'pandas.core.frame.DataFrame'>\n",
      "Int64Index: 5081 entries, 0 to 5080\n",
      "Data columns (total 42 columns):\n",
      " #   Column                  Non-Null Count  Dtype         \n",
      "---  ------                  --------------  -----         \n",
      " 0   Id_x                    5081 non-null   int64         \n",
      " 1   PostTypeId_x            5081 non-null   int64         \n",
      " 2   AcceptedAnswerId_x      5081 non-null   float64       \n",
      " 3   ParentId_x              0 non-null      float64       \n",
      " 4   AnswerCount_x           5081 non-null   float64       \n",
      " 5   CommentCount_x          5081 non-null   int64         \n",
      " 6   FavoriteCount_x         2399 non-null   float64       \n",
      " 7   LastActivityDate_x      5081 non-null   datetime64[ns]\n",
      " 8   CreationDate_x          5081 non-null   datetime64[ns]\n",
      " 9   ClosedDate_x            398 non-null    datetime64[ns]\n",
      " 10  LastEditDate_x          3254 non-null   datetime64[ns]\n",
      " 11  Score_x                 5081 non-null   int64         \n",
      " 12  Title_x                 5081 non-null   object        \n",
      " 13  body_text_x             5081 non-null   object        \n",
      " 14  fe_tenure_x             5081 non-null   float64       \n",
      " 15  fe_isclosed_x           5081 non-null   int64         \n",
      " 16  fe_isquestion_x         5081 non-null   int64         \n",
      " 17  fe_isanswer_x           5081 non-null   int64         \n",
      " 18  fe_isfavorited_x        5081 non-null   int64         \n",
      " 19  fe_wasedited_x          5081 non-null   int64         \n",
      " 20  fe_question_answered_x  5081 non-null   int64         \n",
      " 21  Id_y                    5081 non-null   int64         \n",
      " 22  PostTypeId_y            5081 non-null   int64         \n",
      " 23  AcceptedAnswerId_y      0 non-null      float64       \n",
      " 24  ParentId_y              5081 non-null   float64       \n",
      " 25  AnswerCount_y           0 non-null      float64       \n",
      " 26  CommentCount_y          5081 non-null   int64         \n",
      " 27  FavoriteCount_y         0 non-null      float64       \n",
      " 28  LastActivityDate_y      5081 non-null   datetime64[ns]\n",
      " 29  CreationDate_y          5081 non-null   datetime64[ns]\n",
      " 30  ClosedDate_y            0 non-null      datetime64[ns]\n",
      " 31  LastEditDate_y          1756 non-null   datetime64[ns]\n",
      " 32  Score_y                 5081 non-null   int64         \n",
      " 33  Title_y                 0 non-null      object        \n",
      " 34  body_text_y             5081 non-null   object        \n",
      " 35  fe_tenure_y             5081 non-null   float64       \n",
      " 36  fe_isclosed_y           5081 non-null   int64         \n",
      " 37  fe_isquestion_y         5081 non-null   int64         \n",
      " 38  fe_isanswer_y           5081 non-null   int64         \n",
      " 39  fe_isfavorited_y        5081 non-null   int64         \n",
      " 40  fe_wasedited_y          5081 non-null   int64         \n",
      " 41  fe_question_answered_y  5081 non-null   int64         \n",
      "dtypes: datetime64[ns](8), float64(10), int64(20), object(4)\n",
      "memory usage: 1.7+ MB\n"
     ]
    }
   ],
   "source": [
    "# left inner join questions and answers\n",
    "df_qa = df_questions\\\n",
    "    .merge(df_answers, left_on=\"AcceptedAnswerId\", right_on=\"Id\", how=\"inner\")\n",
    "\n",
    "df_qa.info()"
   ]
  },
  {
   "cell_type": "code",
   "execution_count": 14,
   "metadata": {},
   "outputs": [],
   "source": [
    "# map questions with answered\n",
    "\n",
    "# columns to select\n",
    "cols = [\n",
    "    \"Title_x\", \"body_text_x\", \"body_text_y\", \n",
    "    \"CommentCount_x\", \"AnswerCount_x\", \"FavoriteCount_x\", \n",
    "    \"CommentCount_y\", \"Score_x\", \"fe_tenure_x\", \n",
    "    \"LastEditDate_x\", \"LastEditDate_y\",\n",
    "    \"LastActivityDate_x\", \"LastActivityDate_y\",\n",
    "    \"fe_isclosed_x\", \"fe_wasedited_x\", \"fe_wasedited_y\"\n",
    "]\n",
    "\n",
    "# columns to rename\n",
    "rename_dict = {\n",
    "    \"Title_x\"             : \"post_title\", \n",
    "    \"body_text_x\"         : \"post_question\", \n",
    "    \"body_text_y\"         : \"post_acceptedanswer\",\n",
    "    \"Score_x\"             : \"post_score\",\n",
    "    \"CommentCount_x\"      : \"postcomments_count\",\n",
    "    \"AnswerCount_x\"       : \"postanswers_count\",\n",
    "    \"FavoriteCount_x\"     : \"postfavorites_count\",\n",
    "    \"CommentCount_y\"      : \"answercomments_count\",\n",
    "    \"fe_tenure_x\"         : \"tenure_hours\",\n",
    "    \"fe_isclosed_x\"       : \"post_closed\",\n",
    "    \"fe_wasedited_x\"      : \"question_edited\", \n",
    "    \"fe_wasedited_y\"      : \"answer_edited\",\n",
    "    \"LastActivityDate_x\"  : \"question_lastactivity\",\n",
    "    \"LastActivityDate_y\"  : \"answer_lastactivity\",\n",
    "    \"LastEditDate_x\"      : \"question_lastedited\",\n",
    "    \"LastEditDate_y\"      : \"answer_lastedited\"\n",
    "}"
   ]
  },
  {
   "cell_type": "code",
   "execution_count": 15,
   "metadata": {},
   "outputs": [
    {
     "name": "stdout",
     "output_type": "stream",
     "text": [
      "- Columns renamed.\n",
      "- File exported to: C:\\Users\\nrosh\\Desktop\\Personal Coding Projects\\Python\\ml-powered-applications\\neel\\data\\out\\adhoc_012421.csv\n",
      "\n",
      "\n",
      "<class 'pandas.core.frame.DataFrame'>\n",
      "Int64Index: 5081 entries, 0 to 5080\n",
      "Data columns (total 16 columns):\n",
      " #   Column                 Non-Null Count  Dtype         \n",
      "---  ------                 --------------  -----         \n",
      " 0   post_title             5081 non-null   object        \n",
      " 1   post_question          5081 non-null   object        \n",
      " 2   post_acceptedanswer    5081 non-null   object        \n",
      " 3   postcomments_count     5081 non-null   int64         \n",
      " 4   postanswers_count      5081 non-null   float64       \n",
      " 5   postfavorites_count    2399 non-null   float64       \n",
      " 6   answercomments_count   5081 non-null   int64         \n",
      " 7   post_score             5081 non-null   int64         \n",
      " 8   tenure_hours           5081 non-null   float64       \n",
      " 9   question_lastedited    3254 non-null   datetime64[ns]\n",
      " 10  answer_lastedited      1756 non-null   datetime64[ns]\n",
      " 11  question_lastactivity  5081 non-null   datetime64[ns]\n",
      " 12  answer_lastactivity    5081 non-null   datetime64[ns]\n",
      " 13  post_closed            5081 non-null   int64         \n",
      " 14  question_edited        5081 non-null   int64         \n",
      " 15  answer_edited          5081 non-null   int64         \n",
      "dtypes: datetime64[ns](4), float64(3), int64(6), object(3)\n",
      "memory usage: 674.8+ KB\n"
     ]
    }
   ],
   "source": [
    "# mapped questions with answers\n",
    "export_loc = PATH_data+\"\\\\out\"\n",
    "\n",
    "df4 = export_df(df_qa, cols, rename_dict=rename_dict, export_loc=export_loc)\n",
    "df4.info()"
   ]
  },
  {
   "cell_type": "code",
   "execution_count": 20,
   "metadata": {},
   "outputs": [],
   "source": [
    "# special requests\n",
    "\n",
    "# columns to select\n",
    "cols_s = [\n",
    "    'PostTypeId', 'AcceptedAnswerId', 'ParentId', 'AnswerCount',\n",
    "    'CommentCount', 'FavoriteCount', 'LastActivityDate', 'CreationDate',\n",
    "    'ClosedDate', 'LastEditDate', 'Score', 'Title', 'body_text',\n",
    "    'fe_tenure', 'fe_isclosed', 'fe_isquestion', 'fe_isanswer',\n",
    "    'fe_isfavorited', 'fe_wasedited', 'fe_question_answered'\n",
    "]\n"
   ]
  },
  {
   "cell_type": "code",
   "execution_count": 23,
   "metadata": {},
   "outputs": [
    {
     "name": "stdout",
     "output_type": "stream",
     "text": [
      "- File exported to: C:\\Users\\nrosh\\Desktop\\Personal Coding Projects\\Python\\ml-powered-applications\\neel\\data\\out\\cleaned_data.csv\n",
      "\n",
      "\n",
      "<class 'pandas.core.frame.DataFrame'>\n",
      "Int64Index: 42605 entries, 1 to 52454\n",
      "Data columns (total 20 columns):\n",
      " #   Column                Non-Null Count  Dtype         \n",
      "---  ------                --------------  -----         \n",
      " 0   PostTypeId            42605 non-null  int64         \n",
      " 1   AcceptedAnswerId      5081 non-null   float64       \n",
      " 2   ParentId              31935 non-null  float64       \n",
      " 3   AnswerCount           9935 non-null   float64       \n",
      " 4   CommentCount          42605 non-null  int64         \n",
      " 5   FavoriteCount         4052 non-null   float64       \n",
      " 6   LastActivityDate      42605 non-null  datetime64[ns]\n",
      " 7   CreationDate          42605 non-null  datetime64[ns]\n",
      " 8   ClosedDate            1294 non-null   datetime64[ns]\n",
      " 9   LastEditDate          15252 non-null  datetime64[ns]\n",
      " 10  Score                 42605 non-null  int64         \n",
      " 11  Title                 9935 non-null   object        \n",
      " 12  body_text             42519 non-null  object        \n",
      " 13  fe_tenure             42605 non-null  float64       \n",
      " 14  fe_isclosed           42605 non-null  int64         \n",
      " 15  fe_isquestion         42605 non-null  int64         \n",
      " 16  fe_isanswer           42605 non-null  int64         \n",
      " 17  fe_isfavorited        42605 non-null  int64         \n",
      " 18  fe_wasedited          42605 non-null  int64         \n",
      " 19  fe_question_answered  42605 non-null  int64         \n",
      "dtypes: datetime64[ns](4), float64(5), int64(9), object(2)\n",
      "memory usage: 6.8+ MB\n"
     ]
    }
   ],
   "source": [
    "# special requests\n",
    "export_loc = PATH_data+\"\\\\out\"\n",
    "\n",
    "df_special = export_df(df3, cols_s, export_loc=export_loc, export_name=\"cleaned_data\")\n",
    "df_special.info()"
   ]
  },
  {
   "cell_type": "markdown",
   "metadata": {},
   "source": [
    "## Sanity check's"
   ]
  },
  {
   "cell_type": "code",
   "execution_count": 24,
   "metadata": {},
   "outputs": [],
   "source": [
    "# get questions received no answer\n",
    "# how many received at least one\n",
    "# how many had an answer that was accepted\n",
    "\n",
    "df_hasnoanswer       = ((df3.fe_isquestion == 1) & (df3.AcceptedAnswerId.isna()) & (df3.AnswerCount < 1))\n",
    "df_morethanoneanswer = ((df3.loc[df3.fe_isanswer == 1, \"ParentId\"].value_counts() > 1) == True)\n",
    "df_acceptedAnswers   = df3.loc[(df3.fe_isquestion == 1) & (df3.AcceptedAnswerId.isna() == False)]"
   ]
  },
  {
   "cell_type": "code",
   "execution_count": 25,
   "metadata": {},
   "outputs": [
    {
     "name": "stdout",
     "output_type": "stream",
     "text": [
      "\n",
      "\n",
      "Questions that,\n",
      "\n",
      "1. Recieved no answer: 257\n",
      "2. Recieved more than one answer: 7234 \n",
      "3. Recieved an answer that was accepted: 5081\n",
      "\n"
     ]
    }
   ],
   "source": [
    "print(f\"\"\"\n",
    "\n",
    "Questions that,\n",
    "\n",
    "1. Recieved no answer: {df_hasnoanswer.value_counts().loc[True]}\n",
    "2. Recieved more than one answer: {df_morethanoneanswer.value_counts().loc[True]} \n",
    "3. Recieved an answer that was accepted: {len(df_acceptedAnswers.index)}\n",
    "\"\"\")"
   ]
  },
  {
   "cell_type": "code",
   "execution_count": null,
   "metadata": {},
   "outputs": [],
   "source": []
  }
 ],
 "metadata": {
  "kernelspec": {
   "display_name": "Python 3",
   "language": "python",
   "name": "python3"
  },
  "language_info": {
   "codemirror_mode": {
    "name": "ipython",
    "version": 3
   },
   "file_extension": ".py",
   "mimetype": "text/x-python",
   "name": "python",
   "nbconvert_exporter": "python",
   "pygments_lexer": "ipython3",
   "version": "3.8.5"
  },
  "toc": {
   "base_numbering": 1,
   "nav_menu": {},
   "number_sections": true,
   "sideBar": true,
   "skip_h1_title": false,
   "title_cell": "Table of Contents",
   "title_sidebar": "Contents",
   "toc_cell": false,
   "toc_position": {},
   "toc_section_display": true,
   "toc_window_display": false
  },
  "varInspector": {
   "cols": {
    "lenName": 16,
    "lenType": 16,
    "lenVar": 40
   },
   "kernels_config": {
    "python": {
     "delete_cmd_postfix": "",
     "delete_cmd_prefix": "del ",
     "library": "var_list.py",
     "varRefreshCmd": "print(var_dic_list())"
    },
    "r": {
     "delete_cmd_postfix": ") ",
     "delete_cmd_prefix": "rm(",
     "library": "var_list.r",
     "varRefreshCmd": "cat(var_dic_list()) "
    }
   },
   "types_to_exclude": [
    "module",
    "function",
    "builtin_function_or_method",
    "instance",
    "_Feature"
   ],
   "window_display": false
  }
 },
 "nbformat": 4,
 "nbformat_minor": 4
}
