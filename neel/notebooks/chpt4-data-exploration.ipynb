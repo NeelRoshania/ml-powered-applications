{
 "cells": [
  {
   "cell_type": "markdown",
   "metadata": {},
   "source": [
    "# ML Powered Applications"
   ]
  },
  {
   "cell_type": "markdown",
   "metadata": {},
   "source": [
    "# Chapter 4\n",
    "\n",
    "Data exploration notebook to better understand the data.\n",
    "\n",
    "Objective\n",
    "- To label and identify trends\n",
    "\n",
    "Process\n",
    "- Generate summary statistics\n",
    "- Identifying differences in class distributions"
   ]
  },
  {
   "cell_type": "code",
   "execution_count": 9,
   "metadata": {},
   "outputs": [],
   "source": [
    "# library dependencies\n",
    "import pandas as pd\n",
    "import numpy as np\n",
    "import matplotlib.pyplot as plt\n",
    "from matplotlib.patches import Rectangle\n",
    "\n",
    "# intialization\n",
    "PATH_data = r\"C:\\Users\\nrosh\\Desktop\\Personal Coding Projects\\Python\\ml-powered-applications\\neel\\data\""
   ]
  },
  {
   "cell_type": "markdown",
   "metadata": {},
   "source": [
    "## Statistics Observed"
   ]
  },
  {
   "cell_type": "markdown",
   "metadata": {},
   "source": [
    "1. Do high scoring questions tend to have longer question lengths?\n",
    "2. Do high scoring questions tend to be favourited more?\n",
    "3. Do high scoring questions tend to be closed by the author?\n",
    "    \n",
    "Sources:\n",
    "- stackexchange: \n",
    "    - Data Schema: https://meta.stackexchange.com/questions/2677/database-schema-documentation-for-the-public-data-dump-and-sede\n",
    "    - Score: https://meta.stackexchange.com/questions/229255/what-is-the-score-of-a-post\n",
    "    "
   ]
  },
  {
   "cell_type": "markdown",
   "metadata": {},
   "source": [
    "## Functions"
   ]
  },
  {
   "cell_type": "code",
   "execution_count": null,
   "metadata": {},
   "outputs": [],
   "source": []
  },
  {
   "cell_type": "markdown",
   "metadata": {},
   "source": [
    "## Ingestion\n"
   ]
  },
  {
   "cell_type": "code",
   "execution_count": 2,
   "metadata": {},
   "outputs": [
    {
     "name": "stdout",
     "output_type": "stream",
     "text": [
      "<class 'pandas.core.frame.DataFrame'>\n",
      "RangeIndex: 5081 entries, 0 to 5080\n",
      "Data columns (total 16 columns):\n",
      " #   Column                 Non-Null Count  Dtype  \n",
      "---  ------                 --------------  -----  \n",
      " 0   post_title             5081 non-null   object \n",
      " 1   post_question          5081 non-null   object \n",
      " 2   post_acceptedanswer    5081 non-null   object \n",
      " 3   postcomments_count     5081 non-null   int64  \n",
      " 4   postanswers_count      5081 non-null   float64\n",
      " 5   postfavorites_count    2399 non-null   float64\n",
      " 6   answercomments_count   5081 non-null   int64  \n",
      " 7   post_score             5081 non-null   int64  \n",
      " 8   tenure_hours           5081 non-null   float64\n",
      " 9   question_lastedited    3254 non-null   object \n",
      " 10  answer_lastedited      1756 non-null   object \n",
      " 11  question_lastactivity  5081 non-null   object \n",
      " 12  answer_lastactivity    5081 non-null   object \n",
      " 13  post_closed            5081 non-null   int64  \n",
      " 14  question_edited        5081 non-null   int64  \n",
      " 15  answer_edited          5081 non-null   int64  \n",
      "dtypes: float64(3), int64(6), object(7)\n",
      "memory usage: 635.2+ KB\n"
     ]
    }
   ],
   "source": [
    "# original\n",
    "df_orig = pd.read_csv(\n",
    "    PATH_data + \"\\\\out\\questions_answers.csv\",\n",
    ")\n",
    "\n",
    "# copies\n",
    "df = df_orig.iloc[:, 1::].copy()\n",
    "df.info()"
   ]
  },
  {
   "cell_type": "markdown",
   "metadata": {
    "scrolled": false
   },
   "source": [
    "## Summary Statistics"
   ]
  },
  {
   "cell_type": "markdown",
   "metadata": {},
   "source": [
    "### 1. Do high scoring questions tend to have longer question lengths?\n"
   ]
  },
  {
   "cell_type": "code",
   "execution_count": 3,
   "metadata": {},
   "outputs": [],
   "source": [
    "# initialize features\n",
    "df[\"fe_postscore_class\"]        = \"low\"\n",
    "df[\"fe_lenpostquestion_class\"]  = \"short\"\n",
    "\n",
    "# classify questions and high or low length\n",
    "df[\"fe_lenpostquestion\"]       = df.loc[:, \"post_question\"].apply(lambda row: len(row))\n",
    "\n",
    "# feature engineer length and score classes\n",
    "for index, row in df.iterrows():\n",
    "    \n",
    "    # fe_postscore_class\n",
    "    if row.post_score > df.post_score.median():\n",
    "        df.loc[index, \"fe_postscore_class\"] = \"high\"\n",
    "        \n",
    "    # fe_lenpostquestion_class\n",
    "    if row.fe_lenpostquestion > df.fe_lenpostquestion.median():\n",
    "        df.loc[index, \"fe_lenpostquestion_class\"] = \"long\""
   ]
  },
  {
   "cell_type": "code",
   "execution_count": 12,
   "metadata": {},
   "outputs": [
    {
     "data": {
      "text/plain": [
       "Text(0, 0.5, 'Percentage of sentences')"
      ]
     },
     "execution_count": 12,
     "metadata": {},
     "output_type": "execute_result"
    },
    {
     "data": {
      "image/png": "[encoded data removed]",
      "text/plain": [
       "<Figure size 1152x720 with 1 Axes>"
      ]
     },
     "metadata": {
      "needs_background": "light"
     },
     "output_type": "display_data"
    }
   ],
   "source": [
    "# plot low scoring questions\n",
    "ax = df.loc[(df.fe_postscore_class == \"low\") & (df.fe_lenpostquestion < 2000), \"fe_lenpostquestion\"].hist(\n",
    "    bins=60,\n",
    "    density=True,\n",
    "    histtype=\"step\",\n",
    "    color=\"orange\",\n",
    "    linewidth=3,\n",
    "    grid=False,\n",
    "    figsize=(16,10)\n",
    ")\n",
    "\n",
    "# plot high scoring questions\n",
    "df.loc[(df.fe_postscore_class == \"high\") & (df.fe_lenpostquestion < 2000), \"fe_lenpostquestion\"].hist(\n",
    "    bins=60,\n",
    "    density=True,\n",
    "    histtype=\"step\",\n",
    "    color=\"purple\",\n",
    "    linewidth=3,\n",
    "    grid=False\n",
    ")\n",
    "\n",
    "# set figure aesthetics\n",
    "handles = [\n",
    "    Rectangle((0, 0), 1, 1, color=c, ec=\"k\") for c in [\"orange\", \"purple\"]\n",
    "]\n",
    "labels = [\"Low score\", \"High score\"]\n",
    "plt.legend(handles, labels)\n",
    "ax.set_xlabel(\"Sentence length (characters)\")\n",
    "ax.set_ylabel(\"Percentage of sentences\")\n"
   ]
  },
  {
   "cell_type": "markdown",
   "metadata": {},
   "source": [
    "#### Insights\n",
    "1. Yes. High scoring questions tends to range greater than 800 words in length"
   ]
  },
  {
   "cell_type": "markdown",
   "metadata": {},
   "source": [
    "### Do high scoring questions tend to be favourited more?"
   ]
  },
  {
   "cell_type": "code",
   "execution_count": 21,
   "metadata": {},
   "outputs": [],
   "source": [
    "# initialize features\n",
    "df[\"fe_favourite_class\"]        = \"low\"\n",
    "\n",
    "# feature engineer length and score classes\n",
    "for index, row in df.iterrows():\n",
    "    \n",
    "    # fe_postscore_class\n",
    "    if row.postfavorites_count > df.postfavorites_count.median():\n",
    "        df.loc[index, \"fe_favourite_class\"] = \"high\""
   ]
  },
  {
   "cell_type": "code",
   "execution_count": 26,
   "metadata": {
    "scrolled": false
   },
   "outputs": [
    {
     "data": {
      "text/plain": [
       "Text(0, 0.5, 'Percentage of posts')"
      ]
     },
     "execution_count": 26,
     "metadata": {},
     "output_type": "execute_result"
    },
    {
     "data": {
      "image/png": "[encoded data removed]",
      "text/plain": [
       "<Figure size 1152x720 with 1 Axes>"
      ]
     },
     "metadata": {
      "needs_background": "light"
     },
     "output_type": "display_data"
    }
   ],
   "source": [
    "# plot low scoring questions\n",
    "ax = df.loc[(df.fe_postscore_class == \"low\") & (df.postfavorites_count < 10), \"postfavorites_count\"].hist(\n",
    "    bins=60,\n",
    "    density=True,\n",
    "    histtype=\"step\",\n",
    "    color=\"orange\",\n",
    "    linewidth=3,\n",
    "    grid=False,\n",
    "    figsize=(16,10)\n",
    ")\n",
    "\n",
    "# plot high scoring questions\n",
    "df.loc[(df.fe_postscore_class == \"high\") & (df.postfavorites_count < 10), \"postfavorites_count\"].hist(\n",
    "    bins=60,\n",
    "    density=True,\n",
    "    histtype=\"step\",\n",
    "    color=\"purple\",\n",
    "    linewidth=3,\n",
    "    grid=False\n",
    ")\n",
    "\n",
    "# set figure aesthetics\n",
    "handles = [\n",
    "    Rectangle((0, 0), 1, 1, color=c, ec=\"k\") for c in [\"orange\", \"purple\"]\n",
    "]\n",
    "labels = [\"Low score\", \"High score\"]\n",
    "plt.legend(handles, labels)\n",
    "ax.set_xlabel(\"Count of favorites\")\n",
    "ax.set_ylabel(\"Percentage of posts\")\n"
   ]
  },
  {
   "cell_type": "markdown",
   "metadata": {},
   "source": [
    "#### Insights\n",
    "1. Yes. High scoring questions tend to have more than 3 counts of being favorited"
   ]
  },
  {
   "cell_type": "markdown",
   "metadata": {},
   "source": [
    "### Do high scoring questions tend to be closed by the author?"
   ]
  },
  {
   "cell_type": "code",
   "execution_count": 27,
   "metadata": {},
   "outputs": [
    {
     "name": "stdout",
     "output_type": "stream",
     "text": [
      "<class 'pandas.core.frame.DataFrame'>\n",
      "RangeIndex: 5081 entries, 0 to 5080\n",
      "Data columns (total 20 columns):\n",
      " #   Column                    Non-Null Count  Dtype  \n",
      "---  ------                    --------------  -----  \n",
      " 0   post_title                5081 non-null   object \n",
      " 1   post_question             5081 non-null   object \n",
      " 2   post_acceptedanswer       5081 non-null   object \n",
      " 3   postcomments_count        5081 non-null   int64  \n",
      " 4   postanswers_count         5081 non-null   float64\n",
      " 5   postfavorites_count       2399 non-null   float64\n",
      " 6   answercomments_count      5081 non-null   int64  \n",
      " 7   post_score                5081 non-null   int64  \n",
      " 8   tenure_hours              5081 non-null   float64\n",
      " 9   question_lastedited       3254 non-null   object \n",
      " 10  answer_lastedited         1756 non-null   object \n",
      " 11  question_lastactivity     5081 non-null   object \n",
      " 12  answer_lastactivity       5081 non-null   object \n",
      " 13  post_closed               5081 non-null   int64  \n",
      " 14  question_edited           5081 non-null   int64  \n",
      " 15  answer_edited             5081 non-null   int64  \n",
      " 16  fe_postscore_class        5081 non-null   object \n",
      " 17  fe_lenpostquestion_class  5081 non-null   object \n",
      " 18  fe_lenpostquestion        5081 non-null   int64  \n",
      " 19  fe_favourite_class        5081 non-null   object \n",
      "dtypes: float64(3), int64(7), object(10)\n",
      "memory usage: 794.0+ KB\n"
     ]
    }
   ],
   "source": [
    "df.info()"
   ]
  },
  {
   "cell_type": "code",
   "execution_count": 32,
   "metadata": {},
   "outputs": [
    {
     "data": {
      "text/html": [
       "<div>\n",
       "<style scoped>\n",
       "    .dataframe tbody tr th:only-of-type {\n",
       "        vertical-align: middle;\n",
       "    }\n",
       "\n",
       "    .dataframe tbody tr th {\n",
       "        vertical-align: top;\n",
       "    }\n",
       "\n",
       "    .dataframe thead th {\n",
       "        text-align: right;\n",
       "    }\n",
       "</style>\n",
       "<table border=\"1\" class=\"dataframe\">\n",
       "  <thead>\n",
       "    <tr style=\"text-align: right;\">\n",
       "      <th></th>\n",
       "      <th>post_closed</th>\n",
       "      <th>question_edited</th>\n",
       "      <th>answer_edited</th>\n",
       "    </tr>\n",
       "    <tr>\n",
       "      <th>fe_postscore_class</th>\n",
       "      <th></th>\n",
       "      <th></th>\n",
       "      <th></th>\n",
       "    </tr>\n",
       "  </thead>\n",
       "  <tbody>\n",
       "    <tr>\n",
       "      <th>high</th>\n",
       "      <td>39</td>\n",
       "      <td>644</td>\n",
       "      <td>1335</td>\n",
       "    </tr>\n",
       "    <tr>\n",
       "      <th>low</th>\n",
       "      <td>359</td>\n",
       "      <td>1183</td>\n",
       "      <td>1990</td>\n",
       "    </tr>\n",
       "  </tbody>\n",
       "</table>\n",
       "</div>"
      ],
      "text/plain": [
       "                    post_closed  question_edited  answer_edited\n",
       "fe_postscore_class                                             \n",
       "high                         39              644           1335\n",
       "low                         359             1183           1990"
      ]
     },
     "execution_count": 32,
     "metadata": {},
     "output_type": "execute_result"
    }
   ],
   "source": [
    "df.loc[:, [\"fe_postscore_class\", \"post_closed\", \"question_edited\", \"answer_edited\"]].groupby(\"fe_postscore_class\").agg({\n",
    "    \"post_closed\": np.sum,\n",
    "    \"question_edited\": np.sum,\n",
    "    \"answer_edited\": np.sum\n",
    "})"
   ]
  },
  {
   "cell_type": "markdown",
   "metadata": {},
   "source": [
    "#### Insights\n",
    "1. No. High scoring questions are not closed as much as low scoring questions. \n",
    "    - Their questions and answers are edited less frequently"
   ]
  },
  {
   "cell_type": "code",
   "execution_count": 34,
   "metadata": {},
   "outputs": [],
   "source": [
    "# export data\n",
    "\n",
    "df.to_csv(\n",
    "    PATH_data + \"\\\\out\\questions_answers_1.csv\",\n",
    ")"
   ]
  },
  {
   "cell_type": "code",
   "execution_count": null,
   "metadata": {},
   "outputs": [],
   "source": []
  }
 ],
 "metadata": {
  "kernelspec": {
   "display_name": "Python 3",
   "language": "python",
   "name": "python3"
  },
  "language_info": {
   "codemirror_mode": {
    "name": "ipython",
    "version": 3
   },
   "file_extension": ".py",
   "mimetype": "text/x-python",
   "name": "python",
   "nbconvert_exporter": "python",
   "pygments_lexer": "ipython3",
   "version": "3.8.5"
  },
  "toc": {
   "base_numbering": 1,
   "nav_menu": {},
   "number_sections": true,
   "sideBar": true,
   "skip_h1_title": false,
   "title_cell": "Table of Contents",
   "title_sidebar": "Contents",
   "toc_cell": false,
   "toc_position": {},
   "toc_section_display": true,
   "toc_window_display": false
  },
  "varInspector": {
   "cols": {
    "lenName": 16,
    "lenType": 16,
    "lenVar": 40
   },
   "kernels_config": {
    "python": {
     "delete_cmd_postfix": "",
     "delete_cmd_prefix": "del ",
     "library": "var_list.py",
     "varRefreshCmd": "print(var_dic_list())"
    },
    "r": {
     "delete_cmd_postfix": ") ",
     "delete_cmd_prefix": "rm(",
     "library": "var_list.r",
     "varRefreshCmd": "cat(var_dic_list()) "
    }
   },
   "types_to_exclude": [
    "module",
    "function",
    "builtin_function_or_method",
    "instance",
    "_Feature"
   ],
   "window_display": false
  }
 },
 "nbformat": 4,
 "nbformat_minor": 4
}
